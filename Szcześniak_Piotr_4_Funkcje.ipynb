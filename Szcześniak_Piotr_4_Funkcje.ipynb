{
  "cells": [
    {
      "cell_type": "markdown",
      "metadata": {
        "id": "_9WiX-ayt7Nk"
      },
      "source": [
        "# Funkcje"
      ]
    },
    {
      "cell_type": "markdown",
      "metadata": {
        "id": "uoBREqdAt7Nm"
      },
      "source": [
        "## Definiowanie Fukncji"
      ]
    },
    {
      "cell_type": "markdown",
      "metadata": {
        "id": "WkFFn-Mjt7Nn"
      },
      "source": [
        "- Widzieliśmy już pętle for jako sposób na przestrzeganie zasady DRY (Don't Repeat Yourself).\n",
        "- Następnym ważnym krokiem są funkcje.\n",
        "- Funkcje umożliwiają zaprogramowanie bloku kodu, który działa tylko po wywołaniu.\n",
        "- Oznacza to, że możemy uniknąć konieczności ponownego definiowania tych samych operacji, gdy wykonujemy je wielokrotnie.\n",
        "<br><br>\n",
        "- Funkcja przyjmuje parametry i zwraca dane wyjściowe.\n",
        "- Wartość przekazana jako parametr nazywana jest argumentem.\n",
        "- Funkcja powiązana z obiektem nazywana jest metodą.\n",
        "- Instancja funkcji nazywana jest wywołaniem funkcji.\n",
        "- Podstawowa składnia funkcji jest następująca:"
      ]
    },
    {
      "cell_type": "code",
      "execution_count": null,
      "metadata": {
        "id": "XGTVfJHBt7No"
      },
      "outputs": [],
      "source": [
        "# function definition\n",
        "def function_name (param1, param2 = 1):\n",
        "    '''\n",
        "    DOCSTRING: explains function\n",
        "    INPUT: Name (str)\n",
        "    OUTPUT: Hello Name (str)\n",
        "    '''\n",
        "    # add code to run\n",
        "    return(\"Hello \" + param1)"
      ]
    },
    {
      "cell_type": "code",
      "execution_count": null,
      "metadata": {
        "colab": {
          "base_uri": "https://localhost:8080/",
          "height": 35
        },
        "id": "gtHYvIGtt7Np",
        "outputId": "25cace9b-866a-474b-cfc8-e6a13a9d8075"
      },
      "outputs": [
        {
          "output_type": "execute_result",
          "data": {
            "text/plain": [
              "'Hello Zain'"
            ],
            "application/vnd.google.colaboratory.intrinsic+json": {
              "type": "string"
            }
          },
          "metadata": {},
          "execution_count": 2
        }
      ],
      "source": [
        "# function call\n",
        "function_name(\"Zain\")"
      ]
    },
    {
      "cell_type": "code",
      "execution_count": null,
      "metadata": {
        "colab": {
          "base_uri": "https://localhost:8080/"
        },
        "id": "8IWuCvlpt7Nq",
        "outputId": "f253fb1d-ebd0-41d5-e06e-0f57fd0818fd"
      },
      "outputs": [
        {
          "output_type": "execute_result",
          "data": {
            "text/plain": [
              "<function __main__.function_name(param1, param2=1)>"
            ]
          },
          "metadata": {},
          "execution_count": 3
        }
      ],
      "source": [
        "function_name"
      ]
    },
    {
      "cell_type": "markdown",
      "metadata": {
        "id": "phUAA1KJt7Nq"
      },
      "source": [
        "- Słowo kluczowe __def__ pokazuje pythona, którego zamierzasz zdefiniować.\n",
        "- __Nazwa funkcji__ jest następna, nazwij wszystkie małe litery, oddzielone podkreśleniami, nie używaj wbudowanych słów kluczowych: zobacz PEP8 po szczegóły.\n",
        "- __Parametry__ zdefiniowane w nawiasach.\n",
        "- __Argumenty domyślne__ to argumenty, które mają wartość domyślną do przywrócenia, jeśli nie określono innej wartości. W tym przypadku param2 = 1 oznacza, że ​​param2 będzie wynosić 1, chyba że zostanie określone jako coś innego w wywołaniu funkcji.\n",
        "- __Dwukropek__ oznacza koniec linii definicji, następny wiersz będzie wcięty.\n",
        "- __Docstrings__ wyjaśnij, co robi funkcja: przeczytaj PEP257 lub google __*'python docstrings'*__, aby uzyskać wskazówki.\n",
        "- https://www.python.org/dev/peps/pep-0257/\n",
        "- Słowo kluczowe __return__ wskazuje wyjście funkcji.\n",
        "<br><br>\n",
        "- Wykonując wywołanie funkcji, piszemy nazwę funkcji, a po niej nawiasy zawierające argumenty do przekazania.\n",
        "- __POWOLNY BŁĄD: jeśli wywołasz funkcję bez nawiasów, nie będzie działać!!!__\n",
        "- Po prostu pokaże informacje o funkcji, w tym moduł, do którego należy, jej nazwę i parametry, które przyjmuje."
      ]
    },
    {
      "cell_type": "markdown",
      "metadata": {
        "id": "IHaT4ZEHt7Nr"
      },
      "source": [
        "## help()"
      ]
    },
    {
      "cell_type": "markdown",
      "metadata": {
        "id": "oKng843xt7Ns"
      },
      "source": [
        "- Możemy użyć funkcji help(), aby znaleźć dokumentację, jeśli nie wiemy, co robi funkcja.\n",
        "- Lub naciśnij Shift + Tab.\n",
        "- Aby uzyskać bardziej szczegółową dokumentację, lepiej znaleźć i wykorzystać pełną dokumentację funkcji (google it!)."
      ]
    },
    {
      "cell_type": "code",
      "execution_count": null,
      "metadata": {
        "colab": {
          "base_uri": "https://localhost:8080/"
        },
        "id": "ULrQPXK5t7Ns",
        "outputId": "31d31b49-1414-43c0-d814-56eeed35a5ec"
      },
      "outputs": [
        {
          "output_type": "stream",
          "name": "stdout",
          "text": [
            "Help on function function_name in module __main__:\n",
            "\n",
            "function_name(param1, param2=1)\n",
            "    DOCSTRING: explains function\n",
            "    INPUT: Name (str)\n",
            "    OUTPUT: Hello Name (str)\n",
            "\n"
          ]
        }
      ],
      "source": [
        "help(function_name)"
      ]
    },
    {
      "cell_type": "code",
      "execution_count": null,
      "metadata": {
        "colab": {
          "base_uri": "https://localhost:8080/"
        },
        "id": "bKlXCI2Jt7Nt",
        "outputId": "30c338fe-f084-419e-8f19-d98cf65befe6"
      },
      "outputs": [
        {
          "output_type": "stream",
          "name": "stdout",
          "text": [
            "Help on built-in function print in module builtins:\n",
            "\n",
            "print(...)\n",
            "    print(value, ..., sep=' ', end='\\n', file=sys.stdout, flush=False)\n",
            "    \n",
            "    Prints the values to a stream, or to sys.stdout by default.\n",
            "    Optional keyword arguments:\n",
            "    file:  a file-like object (stream); defaults to the current sys.stdout.\n",
            "    sep:   string inserted between values, default a space.\n",
            "    end:   string appended after the last value, default a newline.\n",
            "    flush: whether to forcibly flush the stream.\n",
            "\n"
          ]
        }
      ],
      "source": [
        "help(print)"
      ]
    },
    {
      "cell_type": "markdown",
      "metadata": {
        "id": "9iUgZJfnt7Nt"
      },
      "source": [
        "## Zakres zmiennej"
      ]
    },
    {
      "cell_type": "markdown",
      "metadata": {
        "id": "KVu3_jKTt7Nt"
      },
      "source": [
        "- Zakres zmiennej odnosi się do części programu, które mogą odwoływać się do zmiennej.\n",
        "- Istnieją 2 rodzaje zasięgu: lokalny i globalny.\n",
        "— Do zmiennej zdefiniowanej wewnątrz funkcji można się odwoływać tylko wewnątrz tej funkcji: zakres lokalny.\n",
        "— Do zmiennej zdefiniowanej poza funkcją (w ogólnym skrypcie) można się odwoływać wewnątrz funkcji, ale nie można jej modyfikować wewnątrz funkcji (UnboundLocalError).\n",
        "- Aby zmienić go w funkcji, należy go ponownie zdefiniować w funkcji."
      ]
    },
    {
      "cell_type": "code",
      "execution_count": null,
      "metadata": {
        "colab": {
          "base_uri": "https://localhost:8080/",
          "height": 321
        },
        "id": "klj-vevGt7Nu",
        "outputId": "870b2481-0017-4ca0-f343-74f8b13c59f6"
      },
      "outputs": [
        {
          "output_type": "error",
          "ename": "UnboundLocalError",
          "evalue": "ignored",
          "traceback": [
            "\u001b[0;31m---------------------------------------------------------------------------\u001b[0m",
            "\u001b[0;31mUnboundLocalError\u001b[0m                         Traceback (most recent call last)",
            "\u001b[0;32m<ipython-input-6-104dbc483606>\u001b[0m in \u001b[0;36m<module>\u001b[0;34m\u001b[0m\n\u001b[1;32m      4\u001b[0m     \u001b[0mcounter\u001b[0m \u001b[0;34m+=\u001b[0m \u001b[0;36m12\u001b[0m \u001b[0;31m# add 12 to counter\u001b[0m\u001b[0;34m\u001b[0m\u001b[0;34m\u001b[0m\u001b[0m\n\u001b[1;32m      5\u001b[0m \u001b[0;34m\u001b[0m\u001b[0m\n\u001b[0;32m----> 6\u001b[0;31m \u001b[0madd_to_counter\u001b[0m\u001b[0;34m(\u001b[0m\u001b[0;34m)\u001b[0m\u001b[0;34m\u001b[0m\u001b[0;34m\u001b[0m\u001b[0m\n\u001b[0m",
            "\u001b[0;32m<ipython-input-6-104dbc483606>\u001b[0m in \u001b[0;36madd_to_counter\u001b[0;34m()\u001b[0m\n\u001b[1;32m      2\u001b[0m \u001b[0;34m\u001b[0m\u001b[0m\n\u001b[1;32m      3\u001b[0m \u001b[0;32mdef\u001b[0m \u001b[0madd_to_counter\u001b[0m\u001b[0;34m(\u001b[0m\u001b[0;34m)\u001b[0m\u001b[0;34m:\u001b[0m\u001b[0;34m\u001b[0m\u001b[0;34m\u001b[0m\u001b[0m\n\u001b[0;32m----> 4\u001b[0;31m     \u001b[0mcounter\u001b[0m \u001b[0;34m+=\u001b[0m \u001b[0;36m12\u001b[0m \u001b[0;31m# add 12 to counter\u001b[0m\u001b[0;34m\u001b[0m\u001b[0;34m\u001b[0m\u001b[0m\n\u001b[0m\u001b[1;32m      5\u001b[0m \u001b[0;34m\u001b[0m\u001b[0m\n\u001b[1;32m      6\u001b[0m \u001b[0madd_to_counter\u001b[0m\u001b[0;34m(\u001b[0m\u001b[0;34m)\u001b[0m\u001b[0;34m\u001b[0m\u001b[0;34m\u001b[0m\u001b[0m\n",
            "\u001b[0;31mUnboundLocalError\u001b[0m: local variable 'counter' referenced before assignment"
          ]
        }
      ],
      "source": [
        "counter = 0\n",
        "\n",
        "def add_to_counter():\n",
        "    counter += 12 # add 12 to counter\n",
        "\n",
        "add_to_counter()"
      ]
    },
    {
      "cell_type": "code",
      "execution_count": null,
      "metadata": {
        "colab": {
          "base_uri": "https://localhost:8080/"
        },
        "id": "DoCl4DKwt7Nu",
        "outputId": "76e872e2-ec2c-44cd-92db-7810b37c28fc"
      },
      "outputs": [
        {
          "output_type": "stream",
          "name": "stdout",
          "text": [
            "12\n"
          ]
        }
      ],
      "source": [
        "counter = 0\n",
        "\n",
        "def add_to_counter(count):\n",
        "    return count + 12  # add 12 to counter\n",
        "\n",
        "counter = add_to_counter(counter)\n",
        "\n",
        "print(counter)"
      ]
    },
    {
      "cell_type": "markdown",
      "metadata": {
        "id": "FTWshFQdt7Nu"
      },
      "source": [
        "## Ćwiczenie 1"
      ]
    },
    {
      "cell_type": "markdown",
      "metadata": {
        "id": "ziPEIsQdt7Nv"
      },
      "source": [
        "Napisz funkcję o nazwie check_range, która sprawdza, czy liczba znajduje się w podanym zakresie (zawiera zarówno niski *__i__* wysoki). <br>\n",
        "Jeśli tak, zwróć „x jest między y a z”. <br>\n",
        "Jeśli tak nie jest, zwróć „x NIE jest między y a z”. <br>\n",
        "Gdzie:\n",
        "- x to liczba\n",
        "- y jest dolną granicą\n",
        "- z to górna granica"
      ]
    },
    {
      "cell_type": "code",
      "execution_count": null,
      "metadata": {
        "id": "oqI0LtmHt7Nv"
      },
      "outputs": [],
      "source": [
        "# CODE HERE\n",
        "def check_range(x: int, y: int, z: int):\n",
        "  return \"x jest między y a z\" if y<x<z else  \"x NIE jest między y a z\""
      ]
    },
    {
      "cell_type": "code",
      "execution_count": null,
      "metadata": {
        "colab": {
          "base_uri": "https://localhost:8080/",
          "height": 35
        },
        "id": "aDdFWmPBt7Nv",
        "outputId": "92825080-97d1-4791-ad94-5bf058801730"
      },
      "outputs": [
        {
          "output_type": "execute_result",
          "data": {
            "text/plain": [
              "'x jest między y a z'"
            ],
            "application/vnd.google.colaboratory.intrinsic+json": {
              "type": "string"
            }
          },
          "metadata": {},
          "execution_count": 9
        }
      ],
      "source": [
        "check_range(34, 9, 228)"
      ]
    },
    {
      "cell_type": "code",
      "execution_count": null,
      "metadata": {
        "colab": {
          "base_uri": "https://localhost:8080/",
          "height": 35
        },
        "id": "LboYuoZjt7Nv",
        "outputId": "a69861ef-919f-47bd-f8a6-f752a51c159c"
      },
      "outputs": [
        {
          "output_type": "execute_result",
          "data": {
            "text/plain": [
              "'x NIE jest między y a z'"
            ],
            "application/vnd.google.colaboratory.intrinsic+json": {
              "type": "string"
            }
          },
          "metadata": {},
          "execution_count": 10
        }
      ],
      "source": [
        "check_range(7, 2, 5)"
      ]
    },
    {
      "cell_type": "markdown",
      "metadata": {
        "id": "yPb7palkt7Nw"
      },
      "source": [
        "Napisz funkcję o nazwie bool_range, która robi to samo, ale zwraca tylko wartość logiczną."
      ]
    },
    {
      "cell_type": "code",
      "execution_count": null,
      "metadata": {
        "id": "eAFT_W2-t7Nw"
      },
      "outputs": [],
      "source": [
        "# CODE HERE\n",
        "def bool_range(x: int, y: int, z: int):\n",
        "  return y<x<z"
      ]
    },
    {
      "cell_type": "code",
      "execution_count": null,
      "metadata": {
        "colab": {
          "base_uri": "https://localhost:8080/"
        },
        "id": "QQb89RGMt7Nw",
        "outputId": "7a57240d-c454-4f29-b659-f2f96d61d819"
      },
      "outputs": [
        {
          "output_type": "execute_result",
          "data": {
            "text/plain": [
              "True"
            ]
          },
          "metadata": {},
          "execution_count": 12
        }
      ],
      "source": [
        "bool_range(7, 5, 20)"
      ]
    },
    {
      "cell_type": "code",
      "execution_count": null,
      "metadata": {
        "colab": {
          "base_uri": "https://localhost:8080/"
        },
        "id": "DzMZp7W0t7Nw",
        "outputId": "2cf85c71-5bb7-4b8c-eea6-6d2c5e5edc8f"
      },
      "outputs": [
        {
          "output_type": "execute_result",
          "data": {
            "text/plain": [
              "False"
            ]
          },
          "metadata": {},
          "execution_count": 13
        }
      ],
      "source": [
        "bool_range(67, 22, 25)"
      ]
    },
    {
      "cell_type": "markdown",
      "metadata": {
        "id": "lNsw9SyLt7Nw"
      },
      "source": [
        "## Ćwiczenie 2"
      ]
    },
    {
      "cell_type": "markdown",
      "metadata": {
        "id": "mkqV9Caat7Nx"
      },
      "source": [
        "Napisz funkcję o nazwie unique_list, która pobiera listę i zwraca listę zawierającą tylko unikalne elementy danych wejściowych."
      ]
    },
    {
      "cell_type": "code",
      "execution_count": null,
      "metadata": {
        "id": "R5XUoO3lt7Nx"
      },
      "outputs": [],
      "source": [
        "# CODE HERE\n",
        "def unique_list(object: list):\n",
        "  return list(set(object))"
      ]
    },
    {
      "cell_type": "code",
      "execution_count": null,
      "metadata": {
        "colab": {
          "base_uri": "https://localhost:8080/"
        },
        "id": "RJwzSmOLt7Nx",
        "outputId": "55989850-9828-4f0f-ef0b-fc7bd0c080b0"
      },
      "outputs": [
        {
          "output_type": "execute_result",
          "data": {
            "text/plain": [
              "[1, 2, 3, 4, 5, 6, 12, 63]"
            ]
          },
          "metadata": {},
          "execution_count": 15
        }
      ],
      "source": [
        "my_list = [1,3,5,6,4,3,2,3,3,4,3,4,5,6,6,4,3,2,12,3,5,63,4,5,3,3,2]\n",
        "\n",
        "unique_list(my_list)"
      ]
    },
    {
      "cell_type": "markdown",
      "metadata": {
        "id": "HpCmMeQct7Nx"
      },
      "source": [
        "Znajdź inny sposób wykonania tej samej operacji bez definiowania funkcji."
      ]
    },
    {
      "cell_type": "code",
      "execution_count": null,
      "metadata": {
        "colab": {
          "base_uri": "https://localhost:8080/"
        },
        "id": "VcXMwhuJt7Nx",
        "outputId": "8411c63e-1be5-4c04-80c2-96e699caff7f"
      },
      "outputs": [
        {
          "output_type": "stream",
          "name": "stdout",
          "text": [
            "[1, 3, 5, 6, 4, 2, 12, 63]\n"
          ]
        }
      ],
      "source": [
        "# CODE HERE\n",
        "my_unique_list = []\n",
        "for item in my_list:\n",
        "  if item not in my_unique_list:\n",
        "    my_unique_list.append(item)\n",
        "print(my_unique_list)"
      ]
    },
    {
      "cell_type": "markdown",
      "metadata": {
        "id": "y_kLIDkCt7Nx"
      },
      "source": [
        "## Ćwiczenie 3"
      ]
    },
    {
      "cell_type": "markdown",
      "metadata": {
        "id": "sKUuCvo8t7Nx"
      },
      "source": [
        "Napisz funkcję o nazwie objętość_kuli, która przyjmuje promień kuli i zwraca jej objętość zaokrągloną do 2 dp. (Google wzór na objętość kuli, użyj pi = 3,14)"
      ]
    },
    {
      "cell_type": "code",
      "execution_count": null,
      "metadata": {
        "id": "VirmSvbNt7Ny"
      },
      "outputs": [],
      "source": [
        "# CODE HERE\n",
        "def volume_of_sphere(promien):\n",
        "  return round(4/3*3.14*promien**3, 2)"
      ]
    },
    {
      "cell_type": "code",
      "execution_count": null,
      "metadata": {
        "colab": {
          "base_uri": "https://localhost:8080/"
        },
        "id": "cZx6IGnOt7Ny",
        "outputId": "42369587-d440-4516-fe67-3e14fe02d04f"
      },
      "outputs": [
        {
          "output_type": "execute_result",
          "data": {
            "text/plain": [
              "33.49"
            ]
          },
          "metadata": {},
          "execution_count": 25
        }
      ],
      "source": [
        "volume_of_sphere(2)"
      ]
    },
    {
      "cell_type": "code",
      "execution_count": null,
      "metadata": {
        "id": "qW08Wd2mt7Ny"
      },
      "outputs": [],
      "source": []
    },
    {
      "cell_type": "markdown",
      "metadata": {
        "id": "32XfX4EIt7Ny"
      },
      "source": [
        "## Rekursja"
      ]
    },
    {
      "cell_type": "markdown",
      "metadata": {
        "id": "vRXqhKtEt7Ny"
      },
      "source": [
        "- Funkcja rekurencyjna to funkcja, która wywołuje siebie w ramach swojej definicji.\n",
        "- Na początku może to być trudne do zrozumienia, ale pomyśl o tym jako o przełamaniu dużego problemu w wielokrotne robienie małego problemu.\n",
        "- Oznacza to, że złożony problem można uprościć, powtarzając przy każdym powtórzeniu prostszą i prostszą formę tego samego problemu.\n",
        "- Musimy jednak podać „najprostszą formę” funkcji, w której funkcja się zatrzymuje, w przeciwnym razie będzie się powtarzać w nieskończoność i wygeneruje błąd.\n",
        "- Nazywamy tę „najprostszą formę” przypadkiem podstawowym.\n",
        "- Najlepiej ilustruje to przykład:"
      ]
    },
    {
      "cell_type": "code",
      "execution_count": null,
      "metadata": {
        "colab": {
          "base_uri": "https://localhost:8080/"
        },
        "id": "0B3PUEfLt7Nz",
        "outputId": "4c239e66-46aa-4196-e11d-d2a01ece57b9"
      },
      "outputs": [
        {
          "output_type": "stream",
          "name": "stdout",
          "text": [
            "5\n",
            "4\n",
            "3\n",
            "2\n",
            "1\n",
            "0\n"
          ]
        }
      ],
      "source": [
        "# Funkcja, która przyjmuje jako wejście liczbę początkową do odliczania\n",
        "def countdown(n):\n",
        "    \n",
        "    # przypadek podstawowy: w tym miejscu funkcja ostatecznie się zatrzyma\n",
        "    if n == 0:\n",
        "        print(0)\n",
        "        \n",
        "    # tutaj redukujemy problem do prostszej wersji\n",
        "    else:\n",
        "        \n",
        "        #wypisujemy numer odliczania\n",
        "        print(n)\n",
        "        \n",
        "        # powtarzamy funkcję z następną najmniejszą liczbą\n",
        "        countdown(n-1)\n",
        "        \n",
        "\n",
        "countdown(5)"
      ]
    },
    {
      "cell_type": "code",
      "execution_count": null,
      "metadata": {
        "id": "d3omW9k-t7Nz"
      },
      "outputs": [],
      "source": []
    },
    {
      "cell_type": "markdown",
      "metadata": {
        "id": "8qKRGQast7Nz"
      },
      "source": [
        "## Ćwiczenie 4"
      ]
    },
    {
      "cell_type": "markdown",
      "metadata": {
        "id": "iHZx2yvkt7Nz"
      },
      "source": [
        "Zdefiniuj funkcję rekurencyjną o nazwie num_fact, która zwraca silnię podanej liczby."
      ]
    },
    {
      "cell_type": "code",
      "execution_count": null,
      "metadata": {
        "id": "dTBRLv3Yt7Nz"
      },
      "outputs": [],
      "source": [
        "# CODE HERE\n",
        "def num_fact(n: int):\n",
        "  if n == 1:\n",
        "    return n\n",
        "  else:\n",
        "    return n*num_fact(n-1)"
      ]
    },
    {
      "cell_type": "code",
      "execution_count": null,
      "metadata": {
        "colab": {
          "base_uri": "https://localhost:8080/"
        },
        "id": "-d8Dz8fXt7Nz",
        "outputId": "a9de3ffe-e7a0-4553-a10e-90bbd6c8a738"
      },
      "outputs": [
        {
          "output_type": "execute_result",
          "data": {
            "text/plain": [
              "3628800"
            ]
          },
          "metadata": {},
          "execution_count": 43
        }
      ],
      "source": [
        "num_fact(10)"
      ]
    },
    {
      "cell_type": "code",
      "execution_count": null,
      "metadata": {
        "id": "Lu0s2OZvt7Nz"
      },
      "outputs": [],
      "source": []
    },
    {
      "cell_type": "markdown",
      "metadata": {
        "id": "l0yqjeYmt7N0"
      },
      "source": [
        "## Dalsza lektura\n",
        "- Python Function Definitions: https://docs.python.org/3/reference/compound_stmts.html#function-definitions\n",
        "- Python Docstring Conventions: https://www.python.org/dev/peps/pep-0257/"
      ]
    },
    {
      "cell_type": "code",
      "execution_count": null,
      "metadata": {
        "id": "1Po8vmbPt7N0"
      },
      "outputs": [],
      "source": []
    }
  ],
  "metadata": {
    "kernelspec": {
      "display_name": "Python 3",
      "language": "python",
      "name": "python3"
    },
    "language_info": {
      "codemirror_mode": {
        "name": "ipython",
        "version": 3
      },
      "file_extension": ".py",
      "mimetype": "text/x-python",
      "name": "python",
      "nbconvert_exporter": "python",
      "pygments_lexer": "ipython3",
      "version": "3.7.6"
    },
    "colab": {
      "provenance": [],
      "collapsed_sections": []
    }
  },
  "nbformat": 4,
  "nbformat_minor": 0
}