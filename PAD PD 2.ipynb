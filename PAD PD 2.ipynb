{
 "cells": [
  {
   "cell_type": "code",
   "execution_count": 3,
   "id": "940a20f6",
   "metadata": {},
   "outputs": [],
   "source": [
    "import pandas as pd\n",
    "import numpy as np"
   ]
  },
  {
   "cell_type": "markdown",
   "id": "84232ae6",
   "metadata": {},
   "source": [
    "## ZAD 1"
   ]
  },
  {
   "cell_type": "code",
   "execution_count": 4,
   "id": "7d2a8824",
   "metadata": {},
   "outputs": [
    {
     "name": "stdout",
     "output_type": "stream",
     "text": [
      "[189 170 189 163 183 171 185 168 173 183 173 173 175 178 183 193 178 173\n",
      " 174 183 183 168 170 178 182 180 183 178 182 188 175 179 183 193 182 183\n",
      " 177 185 188 188 182 185]\n"
     ]
    }
   ],
   "source": [
    "data = pd.read_csv('president_heights.csv')\n",
    "heights = np.array(data['height(cm)'])\n",
    "print(heights)"
   ]
  },
  {
   "cell_type": "code",
   "execution_count": 6,
   "id": "8f3d23ef",
   "metadata": {},
   "outputs": [],
   "source": [
    "sredni_wzr = heights.mean()\n",
    "odch_st = heights.std()\n",
    "min_wzr = min(heights)\n",
    "max_wzr = max(heights)"
   ]
  },
  {
   "cell_type": "code",
   "execution_count": 8,
   "id": "1eabfe2b",
   "metadata": {},
   "outputs": [
    {
     "name": "stdout",
     "output_type": "stream",
     "text": [
      "Mean height:        179.73809523809524\n",
      "Standard deviation: 6.931843442745892\n",
      "Minimum height:     163\n",
      "Maximum height:     193\n"
     ]
    }
   ],
   "source": [
    "print(\"Mean height:       \", sredni_wzr)\n",
    "print(\"Standard deviation:\", odch_st)\n",
    "print(\"Minimum height:    \", min_wzr)\n",
    "print(\"Maximum height:    \", max_wzr)"
   ]
  },
  {
   "cell_type": "code",
   "execution_count": 12,
   "id": "8d8355cf",
   "metadata": {},
   "outputs": [],
   "source": [
    "kw_25 = np.quantile(heights, 0.25)\n",
    "kw_75 = np.quantile(heights, 0.75)\n",
    "mediana = np.median(heights)"
   ]
  },
  {
   "cell_type": "code",
   "execution_count": 13,
   "id": "a5ec74f0",
   "metadata": {},
   "outputs": [
    {
     "name": "stdout",
     "output_type": "stream",
     "text": [
      "25th percentile:    174.25\n",
      "Median:             182.0\n",
      "75th percentile:    183.0\n"
     ]
    }
   ],
   "source": [
    "print(\"25th percentile:   \", kw_25)\n",
    "print(\"Median:            \", mediana)\n",
    "print(\"75th percentile:   \", kw_75)"
   ]
  },
  {
   "cell_type": "markdown",
   "id": "9286f595",
   "metadata": {},
   "source": [
    "## ZAD 2"
   ]
  },
  {
   "cell_type": "code",
   "execution_count": 27,
   "id": "45b1a4e2",
   "metadata": {},
   "outputs": [],
   "source": [
    "data = pd.read_csv('Zadanie_2.csv', sep=';', header=None)\n",
    "data = np.array(data)"
   ]
  },
  {
   "cell_type": "code",
   "execution_count": 28,
   "id": "6c96f69e",
   "metadata": {},
   "outputs": [
    {
     "name": "stdout",
     "output_type": "stream",
     "text": [
      "[[  1   2  15 -59   9   3  75   6   7   1]\n",
      " [  0   5   0   4   6  16  44   7   1   1]\n",
      " [  7  14   3 -10   9  15  73   8   2   9]\n",
      " [  1   5  15 -54   5  15  35   8   6   4]\n",
      " [  0   8   5 -18   7  16  91   6   7   9]\n",
      " [  7  18  23 -90   4   8  31   0   1   7]\n",
      " [  2   8  20 -72   4   1  91   9   4   4]\n",
      " [  4  12  18 -65   6   9  76   4   9   9]\n",
      " [  7  15  13 -52   5   7  54   2   7   0]\n",
      " [  2   9  15 -56   6   1  98   4   8   4]]\n"
     ]
    }
   ],
   "source": [
    "print(data)"
   ]
  },
  {
   "cell_type": "code",
   "execution_count": 29,
   "id": "07a36a62",
   "metadata": {},
   "outputs": [
    {
     "data": {
      "text/plain": [
       "(array([104.34960192 +0.j        , -23.35660516+18.84992811j,\n",
       "        -23.35660516-18.84992811j,  15.92989017 +0.j        ,\n",
       "         -4.99456452 +0.j        ,   0.35205717 +5.80125175j,\n",
       "          0.35205717 -5.80125175j,  -1.03383491 +0.j        ,\n",
       "          3.87900166 +1.42651533j,   3.87900166 -1.42651533j]),\n",
       " array([[-0.29000475+0.j        , -0.07545445+0.07743149j,\n",
       "         -0.07545445-0.07743149j, -0.03544485+0.j        ,\n",
       "          0.42681634+0.j        , -0.22172831-0.29869259j,\n",
       "         -0.22172831+0.29869259j,  0.41343726+0.j        ,\n",
       "         -0.28670255+0.21891569j, -0.28670255-0.21891569j],\n",
       "        [-0.24163153+0.j        ,  0.41229621+0.09197324j,\n",
       "          0.41229621-0.09197324j,  0.45873475+0.j        ,\n",
       "         -0.27056206+0.j        , -0.01331344+0.1422557j ,\n",
       "         -0.01331344-0.1422557j , -0.31591047+0.j        ,\n",
       "          0.41954481-0.10561864j,  0.41954481+0.10561864j],\n",
       "        [-0.41060573+0.j        ,  0.37509638-0.00960818j,\n",
       "          0.37509638+0.00960818j,  0.64067986+0.j        ,\n",
       "         -0.37967609+0.j        , -0.60525232+0.j        ,\n",
       "         -0.60525232-0.j        ,  0.6457768 +0.j        ,\n",
       "          0.63631555+0.j        ,  0.63631555-0.j        ],\n",
       "        [-0.18899971+0.j        , -0.05624951+0.174848j  ,\n",
       "         -0.05624951-0.174848j  ,  0.25174536+0.j        ,\n",
       "         -0.07625465+0.j        , -0.14870016-0.00795735j,\n",
       "         -0.14870016+0.00795735j,  0.15206852+0.j        ,\n",
       "          0.21373907+0.00228636j,  0.21373907-0.00228636j],\n",
       "        [-0.42862199+0.j        ,  0.47707538+0.14580554j,\n",
       "          0.47707538-0.14580554j,  0.39445834+0.j        ,\n",
       "         -0.69542141+0.j        ,  0.07336021-0.43070469j,\n",
       "          0.07336021+0.43070469j, -0.25948775+0.j        ,\n",
       "          0.20250102-0.00411374j,  0.20250102+0.00411374j],\n",
       "        [-0.14730562+0.j        , -0.57352911+0.j        ,\n",
       "         -0.57352911-0.j        ,  0.10071325+0.j        ,\n",
       "          0.30158403+0.j        , -0.04758838+0.12911829j,\n",
       "         -0.04758838-0.12911829j,  0.21274791+0.j        ,\n",
       "         -0.1503483 +0.03452906j, -0.1503483 -0.03452906j],\n",
       "        [-0.34660607+0.j        , -0.13987374+0.06837303j,\n",
       "         -0.13987374-0.06837303j, -0.04800705+0.j        ,\n",
       "          0.06798106+0.j        ,  0.00512204+0.04215641j,\n",
       "          0.00512204-0.04215641j,  0.05365357+0.j        ,\n",
       "         -0.0534517 +0.00550802j, -0.0534517 -0.00550802j],\n",
       "        [-0.34919853+0.j        , -0.08414467+0.07749664j,\n",
       "         -0.08414467-0.07749664j,  0.25925893+0.j        ,\n",
       "         -0.10039982+0.j        , -0.06761437-0.25584347j,\n",
       "         -0.06761437+0.25584347j, -0.38214447+0.j        ,\n",
       "          0.29485109-0.01300678j,  0.29485109+0.01300678j],\n",
       "        [-0.2440048 +0.j        , -0.13777908+0.00402196j,\n",
       "         -0.13777908-0.00402196j,  0.27709282+0.j        ,\n",
       "         -0.00524365+0.j        ,  0.21866893+0.04463336j,\n",
       "          0.21866893-0.04463336j, -0.12045798+0.j        ,\n",
       "          0.27558332+0.02285482j,  0.27558332-0.02285482j],\n",
       "        [-0.38231403+0.j        , -0.00476199+0.03456836j,\n",
       "         -0.00476199-0.03456836j,  0.04918165+0.j        ,\n",
       "          0.07322815+0.j        ,  0.1819345 -0.29687727j,\n",
       "          0.1819345 +0.29687727j, -0.11445044+0.j        ,\n",
       "          0.02830199+0.00579727j,  0.02830199-0.00579727j]]))"
      ]
     },
     "execution_count": 29,
     "metadata": {},
     "output_type": "execute_result"
    }
   ],
   "source": [
    "np.linalg.eig(data)"
   ]
  },
  {
   "cell_type": "markdown",
   "id": "b09c2486",
   "metadata": {},
   "source": [
    "## ZAD 3"
   ]
  },
  {
   "cell_type": "code",
   "execution_count": 31,
   "id": "8cacd8a9",
   "metadata": {},
   "outputs": [
    {
     "data": {
      "text/plain": [
       "(365,)"
      ]
     },
     "execution_count": 31,
     "metadata": {},
     "output_type": "execute_result"
    }
   ],
   "source": [
    "rainfall = pd.read_csv('Seattle2014.csv')['PRCP'].values\n",
    "inches = rainfall / 254.0  # 1/10mm -> inches\n",
    "inches.shape"
   ]
  },
  {
   "cell_type": "code",
   "execution_count": 32,
   "id": "51c25146",
   "metadata": {},
   "outputs": [
    {
     "data": {
      "image/png": "[encoded data removed]",
      "text/plain": [
       "<Figure size 432x288 with 1 Axes>"
      ]
     },
     "metadata": {
      "needs_background": "light"
     },
     "output_type": "display_data"
    }
   ],
   "source": [
    "%matplotlib inline\n",
    "import matplotlib.pyplot as plt\n",
    "plt.hist(inches, 40);"
   ]
  },
  {
   "cell_type": "code",
   "execution_count": 54,
   "id": "f0646298",
   "metadata": {},
   "outputs": [],
   "source": [
    "no_rain = np.equal(inches, 0).sum()\n",
    "rain = np.not_equal(inches, 0).sum()\n",
    "more_than_5 = np.greater(inches, 0.5).sum()\n",
    "less_than_2 = np.less(inches, 0.2).sum()"
   ]
  },
  {
   "cell_type": "code",
   "execution_count": 52,
   "id": "1305a0bf",
   "metadata": {},
   "outputs": [],
   "source": [
    "no_rain = len(inches[inches == 0])\n",
    "rain = len(inches[inches > 0])\n",
    "more_than_5 = len(inches[inches > 0.5])\n",
    "less_than_2 = len(inches[inches < 0.2])"
   ]
  },
  {
   "cell_type": "code",
   "execution_count": 55,
   "id": "adb96131",
   "metadata": {},
   "outputs": [
    {
     "name": "stdout",
     "output_type": "stream",
     "text": [
      "Number days without rain:       215\n",
      "Number days with rain:          150\n",
      "Days with more than 0.5 inches: 37\n",
      "Rainy days with < 0.2 inches  : 290\n"
     ]
    }
   ],
   "source": [
    "print(\"Number days without rain:      \", no_rain)\n",
    "print(\"Number days with rain:         \", rain)\n",
    "print(\"Days with more than 0.5 inches:\", more_than_5)\n",
    "print(\"Rainy days with < 0.2 inches  :\", less_than_2)"
   ]
  },
  {
   "cell_type": "code",
   "execution_count": 103,
   "id": "c7e9debc",
   "metadata": {},
   "outputs": [],
   "source": [
    "med_rain = np.median(inches[inches > 0])\n",
    "med_summer = np.median(inches[171:262])\n",
    "max_summer = np.max(inches[171:262])\n",
    "med_non_summer = np.max(inches[[1 if (171 >= i or i >= 263) else 0 for i in range(1,366)]])"
   ]
  },
  {
   "cell_type": "code",
   "execution_count": 104,
   "id": "d5c34f86",
   "metadata": {},
   "outputs": [
    {
     "name": "stdout",
     "output_type": "stream",
     "text": [
      "Median precip on rainy days in 2014 (inches):    0.19488188976377951\n",
      "Median precip on summer days in 2014 (inches):   0.0\n",
      "Maximum precip on summer days in 2014 (inches):  0.8503937007874016\n",
      "Median precip on non-summer rainy days (inches): 0.16141732283464566\n"
     ]
    }
   ],
   "source": [
    "print(\"Median precip on rainy days in 2014 (inches):   \", med_rain)\n",
    "print(\"Median precip on summer days in 2014 (inches):  \", med_summer)\n",
    "print(\"Maximum precip on summer days in 2014 (inches): \", max_summer)\n",
    "print(\"Median precip on non-summer rainy days (inches):\", med_non_summer)"
   ]
  },
  {
   "cell_type": "markdown",
   "id": "eb3f1812",
   "metadata": {},
   "source": [
    "## ZAD 4"
   ]
  },
  {
   "cell_type": "code",
   "execution_count": 121,
   "id": "7253fdd3",
   "metadata": {},
   "outputs": [],
   "source": [
    "A = np.array([0,3,2,5])\n",
    "B = np.array([0,3,1,4])"
   ]
  },
  {
   "cell_type": "code",
   "execution_count": 122,
   "id": "1dbbae67",
   "metadata": {},
   "outputs": [
    {
     "data": {
      "text/plain": [
       "array([0, 6, 3, 9])"
      ]
     },
     "execution_count": 122,
     "metadata": {},
     "output_type": "execute_result"
    }
   ],
   "source": [
    "np.add(A, B)"
   ]
  },
  {
   "cell_type": "code",
   "execution_count": 123,
   "id": "9efc2538",
   "metadata": {},
   "outputs": [
    {
     "data": {
      "text/plain": [
       "array([ 0,  0, -1, -1])"
      ]
     },
     "execution_count": 123,
     "metadata": {},
     "output_type": "execute_result"
    }
   ],
   "source": [
    "np.subtract(B, A)"
   ]
  },
  {
   "cell_type": "code",
   "execution_count": 124,
   "id": "21688f2e",
   "metadata": {},
   "outputs": [
    {
     "data": {
      "text/plain": [
       "array([ 0, 12,  8, 20])"
      ]
     },
     "execution_count": 124,
     "metadata": {},
     "output_type": "execute_result"
    }
   ],
   "source": [
    "np.multiply(A, 4)"
   ]
  },
  {
   "cell_type": "code",
   "execution_count": 125,
   "id": "91947935",
   "metadata": {},
   "outputs": [
    {
     "data": {
      "text/plain": [
       "31"
      ]
     },
     "execution_count": 125,
     "metadata": {},
     "output_type": "execute_result"
    }
   ],
   "source": [
    "np.dot(A, B)"
   ]
  },
  {
   "cell_type": "code",
   "execution_count": 126,
   "id": "024877c6",
   "metadata": {},
   "outputs": [
    {
     "data": {
      "text/plain": [
       "4"
      ]
     },
     "execution_count": 126,
     "metadata": {},
     "output_type": "execute_result"
    }
   ],
   "source": [
    "B.size"
   ]
  }
 ],
 "metadata": {
  "kernelspec": {
   "display_name": "Python 3",
   "language": "python",
   "name": "python3"
  },
  "language_info": {
   "codemirror_mode": {
    "name": "ipython",
    "version": 3
   },
   "file_extension": ".py",
   "mimetype": "text/x-python",
   "name": "python",
   "nbconvert_exporter": "python",
   "pygments_lexer": "ipython3",
   "version": "3.8.5"
  }
 },
 "nbformat": 4,
 "nbformat_minor": 5
}
